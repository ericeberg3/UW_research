{
 "cells": [
  {
   "cell_type": "code",
   "execution_count": 1,
   "metadata": {},
   "outputs": [],
   "source": [
    "import matplotlib.pyplot as plt\n",
    "from mpl_toolkits.mplot3d import Axes3D\n",
    "from matplotlib.cm import rainbow\n",
    "import numpy as np\n",
    "from scipy.integrate import odeint\n",
    "from scipy.io import loadmat\n",
    "\n",
    "import pysindy as ps"
   ]
  },
  {
   "cell_type": "code",
   "execution_count": 2,
   "metadata": {},
   "outputs": [
    {
     "name": "stdout",
     "output_type": "stream",
     "text": [
      "(x0)' = 42999397500.625 x1 + -42999397499.626 u1 + -85998794999.253 x0 u0\n",
      "(x1)' = -0.998 x0\n",
      "Model score: 0.9999995076658661\n"
     ]
    }
   ],
   "source": [
    "import numpy as np\n",
    "import pysindy as ps\n",
    "\n",
    "# Time array\n",
    "t = np.linspace(0, 10, 100)  # 100 time steps\n",
    "dt = t[1] - t[0]\n",
    "\n",
    "# Example state variables (2 state variables)\n",
    "X = np.vstack([np.sin(t), np.cos(t)]).T  # Shape: (100, 2)\n",
    "\n",
    "# Example control inputs (4 control inputs)\n",
    "U = np.vstack([np.sin(2*t), np.cos(3*t), np.sin(4*t), np.cos(5*t)]).T  # Shape: (100, 4)\n",
    "\n",
    "# Define the SINDy library\n",
    "library = ps.PolynomialLibrary(degree=2)  # Polynomial terms up to degree 2\n",
    "\n",
    "# Create SINDy model with control inputs\n",
    "model = ps.SINDy(feature_library=library)\n",
    "\n",
    "# Fit the model\n",
    "model.fit(X, u=U, t=dt)\n",
    "\n",
    "# Print the identified equations\n",
    "model.print()\n",
    "\n",
    "# Predict derivatives\n",
    "X_dot_pred = model.differentiate(X, t=dt)\n",
    "\n",
    "# Validate model performance\n",
    "score = model.score(X, t=dt, u=U)\n",
    "print(\"Model score:\", score)\n"
   ]
  }
 ],
 "metadata": {
  "kernelspec": {
   "display_name": "UW_venv",
   "language": "python",
   "name": "python3"
  },
  "language_info": {
   "codemirror_mode": {
    "name": "ipython",
    "version": 3
   },
   "file_extension": ".py",
   "mimetype": "text/x-python",
   "name": "python",
   "nbconvert_exporter": "python",
   "pygments_lexer": "ipython3",
   "version": "3.12.4"
  }
 },
 "nbformat": 4,
 "nbformat_minor": 2
}
